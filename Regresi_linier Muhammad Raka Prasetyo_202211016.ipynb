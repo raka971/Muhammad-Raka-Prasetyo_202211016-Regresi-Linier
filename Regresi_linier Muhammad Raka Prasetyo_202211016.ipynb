{
  "nbformat": 4,
  "nbformat_minor": 0,
  "metadata": {
    "colab": {
      "provenance": []
    },
    "kernelspec": {
      "name": "python3",
      "display_name": "Python 3"
    },
    "language_info": {
      "name": "python"
    }
  },
  "cells": [
    {
      "cell_type": "code",
      "execution_count": 1,
      "metadata": {
        "id": "6xvDHyBxPRDs"
      },
      "outputs": [],
      "source": [
        "from scipy import stats"
      ]
    },
    {
      "cell_type": "code",
      "source": [
        "x = [177, 171, 174, 175, 173, 179, 178, 172, 176, 170]"
      ],
      "metadata": {
        "id": "XBImIX-KP67K"
      },
      "execution_count": 3,
      "outputs": []
    },
    {
      "cell_type": "code",
      "source": [
        "y = [71, 70, 78, 75, 74, 77, 72, 79, 70, 73 ]"
      ],
      "metadata": {
        "id": "F0kv8U2RRApC"
      },
      "execution_count": 4,
      "outputs": []
    },
    {
      "cell_type": "code",
      "source": [
        "slope, intercept, r , p, std_err = stats.linregress(x,y)"
      ],
      "metadata": {
        "id": "taGzew7XS-xg"
      },
      "execution_count": 6,
      "outputs": []
    },
    {
      "cell_type": "code",
      "source": [
        "def rakafunc(x):\n",
        "  return slope * x + intercept"
      ],
      "metadata": {
        "id": "RgMdiLZETdXD"
      },
      "execution_count": 7,
      "outputs": []
    },
    {
      "cell_type": "code",
      "source": [
        "bobot_raka = rakafunc(188)"
      ],
      "metadata": {
        "id": "IYW4iQeUTvhw"
      },
      "execution_count": 8,
      "outputs": []
    },
    {
      "cell_type": "code",
      "source": [
        "print(bobot_raka)\n"
      ],
      "metadata": {
        "colab": {
          "base_uri": "https://localhost:8080/"
        },
        "id": "XYHR-I5jT5ll",
        "outputId": "c0829348-3d13-49d2-9539-c46c1ab3a577"
      },
      "execution_count": 9,
      "outputs": [
        {
          "output_type": "stream",
          "name": "stdout",
          "text": [
            "73.49090909090908\n"
          ]
        }
      ]
    }
  ]
}